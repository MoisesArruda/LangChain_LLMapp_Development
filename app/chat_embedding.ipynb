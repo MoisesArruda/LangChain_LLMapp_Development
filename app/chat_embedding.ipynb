{
 "cells": [
  {
   "cell_type": "code",
   "execution_count": 1,
   "metadata": {},
   "outputs": [],
   "source": [
    "import os\n",
    "\n",
    "from langchain.chains import LLMChain\n",
    "from langchain.chat_models import AzureChatOpenAI\n",
    "from langchain.prompts import PromptTemplate, load_prompt\n",
    "from dotenv import load_dotenv"
   ]
  },
  {
   "cell_type": "code",
   "execution_count": 2,
   "metadata": {},
   "outputs": [
    {
     "data": {
      "text/plain": [
       "True"
      ]
     },
     "execution_count": 2,
     "metadata": {},
     "output_type": "execute_result"
    }
   ],
   "source": [
    "load_dotenv()"
   ]
  },
  {
   "cell_type": "code",
   "execution_count": 3,
   "metadata": {},
   "outputs": [],
   "source": [
    "\n",
    "def create_chat(t=0.1):\n",
    "\n",
    "    llm_chat = AzureChatOpenAI(openai_api_base=os.getenv(\"OPENAI_API_BASE\"),\n",
    "                    openai_api_version=os.getenv(\"OPENAI_API_VERSION\"),\n",
    "                    openai_api_key=os.getenv(\"OPENAI_API_KEY\"),\n",
    "                    openai_api_type=os.getenv(\"OPENAI_API_TYPE\"),\n",
    "                    deployment_name=os.getenv(\"DEPLOYMENT_NAME\"),\n",
    "                    temperature=t\n",
    "    )\n",
    "    return llm_chat\n"
   ]
  },
  {
   "cell_type": "code",
   "execution_count": 4,
   "metadata": {},
   "outputs": [],
   "source": [
    "def create_embeddings(chunk_size=1):\n",
    "\n",
    "    embeddings = OpenAIEmbeddings(\n",
    "        deployment = os.getenv(\"EMBEDDING_DEPLOYMENT_NAME\"),\n",
    "        chunk_size=chunk_size\n",
    "    )\n",
    "       \n",
    "    return embeddings"
   ]
  },
  {
   "cell_type": "code",
   "execution_count": 5,
   "metadata": {},
   "outputs": [],
   "source": [
    "def create_chain(prompt=None):\n",
    "    \n",
    "    llm_chain = LLMChain(\n",
    "        llm = create_chat(),\n",
    "        prompt = prompt,\n",
    "        verbose=True\n",
    "    )\n",
    "\n",
    "    return llm_chain"
   ]
  }
 ],
 "metadata": {
  "kernelspec": {
   "display_name": ".venv",
   "language": "python",
   "name": "python3"
  },
  "language_info": {
   "codemirror_mode": {
    "name": "ipython",
    "version": 3
   },
   "file_extension": ".py",
   "mimetype": "text/x-python",
   "name": "python",
   "nbconvert_exporter": "python",
   "pygments_lexer": "ipython3",
   "version": "3.10.10"
  }
 },
 "nbformat": 4,
 "nbformat_minor": 2
}
